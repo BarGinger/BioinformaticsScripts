{
  "cells": [
    {
      "cell_type": "markdown",
      "metadata": {},
      "source": [
        "# Jupyter Session Log\n",
        "Session captured at: 2025-07-08 23:24:02\n",
        "\n",
        "## Session Output\n",
        "```\n",
        "[23:21:57] [INFO] Starting Jupyter Notebook session...\n[23:21:57] [INFO] Target server: binfgpu2\n[23:21:57] [INFO] Environment: bio\n[23:21:57] [INFO] Directory: Projects\n[23:21:57] [INFO] Checking port 8888 availability...\n[23:21:58] [SUCCESS] Using local port: 8888\n[23:21:58] [SUCCESS] SSH shell session created\n[23:22:00] [INFO] Connecting to remote server...\n[23:22:00] [INFO] Executing: ssh binfgpu2\n[23:22:05] [SUCCESS] Successfully connected to remote server\n[23:22:05] [INFO] Setting up environment...\n[23:22:06] [INFO] Activating conda environment: bio\n[23:22:11] [SUCCESS] Environment 'bio' activated successfully\n[23:22:11] [INFO] Navigating to directory: Projects\n[23:22:13] [SUCCESS] Successfully changed to directory: Projects\n[23:22:13] [INFO] Starting Jupyter Notebook...\n[23:22:17] [INFO] Waiting for Jupyter to initialize...\n[23:22:27] [SUCCESS] Jupyter Notebook URL detected!\n[23:22:27] [SUCCESS] Jupyter running on port 8888\n[23:22:27] [INFO] Access token: 0da9b582...\n[23:22:27] [INFO] Creating SSH tunnel...\n[23:22:27] [INFO] Tunnel: localhost:8888 -> binfgpu2:8888\n[23:22:30] [SUCCESS] SSH tunnel established successfully\n[23:22:30] [SUCCESS] Jupyter Notebook URL: http://localhost:8888/?token=0da9b582f5aa6239d72d637333b4697419d326f5ea8fff46\n[23:22:30] [SUCCESS] Jupyter Notebook opened in browser",
        "\n```"
      ]
    },
    {
      "cell_type": "code",
      "execution_count": null,
      "metadata": {},
      "outputs": [],
      "source": [
        "# Diagnostic commands from session\n",
        "import torch\n",
        "import sys\n",
        "import subprocess\n",
        "\n",
        "print(f\"PyTorch version: {torch.__version__}\")\n",
        "print(f\"CUDA available: {torch.cuda.is_available()}\")\n",
        "print(f\"Python version: {sys.version}\")\n",
        "\n",
        "# Check GPU status\n",
        "try:\n",
        "    result = subprocess.run(['nvidia-smi'], capture_output=True, text=True)\n",
        "    print(\"\\nGPU Status:\")\n",
        "    print(result.stdout)\n",
        "except FileNotFoundError:\n",
        "    print(\"nvidia-smi not found\")\n"
      ]
    }
  ],
  "metadata": {
    "kernelspec": {
      "display_name": "Python 3",
      "language": "python",
      "name": "python3"
    },
    "language_info": {
      "name": "python",
      "version": "3.8.0"
    }
  },
  "nbformat": 4,
  "nbformat_minor": 4
}